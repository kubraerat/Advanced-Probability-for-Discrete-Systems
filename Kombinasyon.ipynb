{
  "nbformat": 4,
  "nbformat_minor": 0,
  "metadata": {
    "colab": {
      "name": "Untitled4.ipynb",
      "version": "0.3.2",
      "provenance": [],
      "include_colab_link": true
    },
    "kernelspec": {
      "name": "python3",
      "display_name": "Python 3"
    }
  },
  "cells": [
    {
      "cell_type": "markdown",
      "metadata": {
        "id": "view-in-github",
        "colab_type": "text"
      },
      "source": [
        "<a href=\"https://colab.research.google.com/github/kubraerat/Advanced-Probability-for-Discrete-Systems/blob/master/Kombinasyon.ipynb\" target=\"_parent\"><img src=\"https://colab.research.google.com/assets/colab-badge.svg\" alt=\"Open In Colab\"/></a>"
      ]
    },
    {
      "metadata": {
        "id": "SZKRDeTM9aKm",
        "colab_type": "text"
      },
      "cell_type": "markdown",
      "source": [
        "**Soru:** A={1,2,3,4,5,7}\n",
        "\n",
        "kümesinin 3 elemanlı alt kümelerinin kaçında,\n",
        "\n",
        "a)\n",
        "\n",
        "1.   1 bulunur ?\n",
        "2.   1 ve 2 bulunur ?\n",
        "\n",
        "1.   1 veya 2 bulunur ?\n",
        "\n",
        "\n",
        "**Çözüm: **\n",
        "\n",
        "\n",
        "1.   1 elemanı listemizde var olduğunu kabul edelim. O zaman 2 elemanı listenin geri kalanından (6-1=5) seçeceğiz. Yani; C(5,2) = 10'dur.\n",
        "2.   Listemizde 1 ve 2 elemanının var olduğunu kabul edelim. Kalan 1 elemanı listenin geri kalanından(6-2=4) seçeceğiz. Yani; C(4,1)=4'tür.\n",
        "\n",
        "1.   Listemizin 3 elemanlı tüm alt kümelerinden, liste elemanlarının 1 ve 2 dışında kalan elemanlarından oluşturulacak 3 elemanlı alt kümeleri sayısının çıkardığımızda 1 veya 2 elemanı bulunan 3 elemanlı alt kümelerin sayısını elde ederiz. Yani; C(6,3)-C(4,3)=20-4=16'dır.\n",
        "\n",
        "\n",
        "\n",
        "\n",
        "\n",
        "\n"
      ]
    },
    {
      "metadata": {
        "id": "IE0lk5uG9a_w",
        "colab_type": "code",
        "colab": {}
      },
      "cell_type": "code",
      "source": [
        "#faktöriyel hesaplama\n",
        "def faktoriyel(sayi):\n",
        "  if sayi<=1:\n",
        "    return 1\n",
        "  else:\n",
        "    return sayi*faktoriyel(sayi-1)\n",
        "  \n",
        "\n",
        "#kombinasyon hesaplama\n",
        "def C(n,r):\n",
        "  sonuc=faktoriyel(n)/(faktoriyel(n-r))*faktoriyel(r)\n",
        "  \n",
        "  \n",
        "#çözüm\n",
        "sonuc=C()\n",
        "print (sonuc)"
      ],
      "execution_count": 0,
      "outputs": []
    }
  ]
}