{
  "nbformat": 4,
  "nbformat_minor": 0,
  "metadata": {
    "colab": {
      "name": "Untitled4.ipynb",
      "version": "0.3.2",
      "provenance": [],
      "include_colab_link": true
    },
    "kernelspec": {
      "name": "python3",
      "display_name": "Python 3"
    }
  },
  "cells": [
    {
      "cell_type": "markdown",
      "metadata": {
        "id": "view-in-github",
        "colab_type": "text"
      },
      "source": [
        "<a href=\"https://colab.research.google.com/github/kubraerat/Advanced-Probability-for-Discrete-Systems/blob/master/Kombinasyon.ipynb\" target=\"_parent\"><img src=\"https://colab.research.google.com/assets/colab-badge.svg\" alt=\"Open In Colab\"/></a>"
      ]
    },
    {
      "metadata": {
        "id": "oe6Eh6z69ZMT",
        "colab_type": "code",
        "colab": {}
      },
      "cell_type": "code",
      "source": [
        ""
      ],
      "execution_count": 0,
      "outputs": []
    },
    {
      "metadata": {
        "id": "SZKRDeTM9aKm",
        "colab_type": "text"
      },
      "cell_type": "markdown",
      "source": [
        "fgh"
      ]
    },
    {
      "metadata": {
        "id": "IE0lk5uG9a_w",
        "colab_type": "code",
        "colab": {}
      },
      "cell_type": "code",
      "source": [
        "#faktöriyel hesaplama\n",
        "def faktoriyel(sayi):\n",
        "  if sayi<=1:\n",
        "    return 1\n",
        "  else:\n",
        "    return sayi*faktoriyel(sayi-1)\n",
        "  \n",
        "\n",
        "#kombinasyon hesaplama\n",
        "def C(n,r):\n",
        "  sonuc=faktoriyel(n)/(faktoriyel(n-r))*faktoriyel(r)\n",
        "  \n",
        "  \n",
        "#çözüm\n",
        "sonuc=C()\n",
        "print (sonuc)"
      ],
      "execution_count": 0,
      "outputs": []
    }
  ]
}