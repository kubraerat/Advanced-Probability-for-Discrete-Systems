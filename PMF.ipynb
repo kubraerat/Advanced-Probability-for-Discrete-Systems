{
  "nbformat": 4,
  "nbformat_minor": 0,
  "metadata": {
    "colab": {
      "name": "Untitled8.ipynb",
      "version": "0.3.2",
      "provenance": [],
      "include_colab_link": true
    },
    "kernelspec": {
      "name": "python3",
      "display_name": "Python 3"
    }
  },
  "cells": [
    {
      "cell_type": "markdown",
      "metadata": {
        "id": "view-in-github",
        "colab_type": "text"
      },
      "source": [
        "<a href=\"https://colab.research.google.com/github/kubraerat/Advanced-Probability-for-Discrete-Systems/blob/master/PMF.ipynb\" target=\"_parent\"><img src=\"https://colab.research.google.com/assets/colab-badge.svg\" alt=\"Open In Colab\"/></a>"
      ]
    },
    {
      "cell_type": "markdown",
      "metadata": {
        "id": "zTmDJmwkTGYj",
        "colab_type": "text"
      },
      "source": [
        "# Soru:\n",
        "\n",
        "Bir zar iki kere atılıyor. Tek sayı gelmesine ait kesikli olasılık dağılımını bulunuz.\n",
        "\n",
        "# Çözüm: \n",
        "\n",
        "$s(S)=6x6=36$\n",
        "\n",
        "$S={(1,1), (1,2),(1,3),(1,4),(1,5),(1,6),(2,1), (2,2),(2,3),(2,4),(2,5),(2,6),(3,1), (3,2),(3,3),(3,4),(3,5),(3,6),(4,1), (4,2),(4,3),(4,4),(4,5),(4,6),(5,1), (5,2),(5,3),(5,4),(5,5),(5,6),(6,1), (6,2),(6,3),(6,4),(6,5),(6,6)}$\n",
        "\n",
        "\n",
        "\n",
        "** Rastgele değişken**\n",
        "\n",
        "$X:$Tek sayı gelmelerin sayısı\n",
        "\n",
        "$X={0,1,2}$\n",
        "\n",
        "\n",
        "\n",
        "**$PMF$**\n",
        "\n",
        "$X$ | $0$ | $1$ | $2$\n",
        "--- | --- | --- | ---\n",
        "$P(X=x)$ | $\\frac{9}{36}$ |  $\\frac{18}{36}$  |  $\\frac{9}{36}$\n",
        "\n",
        "\n",
        "$P(X=0) = \\frac{3}{6}*\\frac{3}{6}=\\frac{9}{36}$\n",
        "\n",
        "$P(X=1) = (\\frac{3}{6}*\\frac{3}{6}) + (\\frac{3}{6}*\\frac{3}{6})=\\frac{18}{36}$\n",
        "\n",
        "$P(X=2) = \\frac{3}{6}*\\frac{3}{6}=\\frac{9}{36}$\n",
        "\n",
        "\n"
      ]
    },
    {
      "cell_type": "code",
      "metadata": {
        "id": "v9u00oA-lzz2",
        "colab_type": "code",
        "outputId": "c9c7b078-cf87-4149-955d-b08f38c840ca",
        "colab": {
          "base_uri": "https://localhost:8080/",
          "height": 629
        }
      },
      "source": [
        "import numpy as np\n",
        "import pandas as pd\n",
        "import matplotlib.pyplot as plt\n",
        "import itertools \n",
        "from fractions import Fraction \n",
        "\n",
        "\n",
        "#Örnek uzayın bulunması\n",
        "liste=list(itertools.product('123456', repeat=2))\n",
        "length = len(liste)\n",
        "liste\n",
        "\n"
      ],
      "execution_count": 0,
      "outputs": [
        {
          "output_type": "execute_result",
          "data": {
            "text/plain": [
              "[('1', '1'),\n",
              " ('1', '2'),\n",
              " ('1', '3'),\n",
              " ('1', '4'),\n",
              " ('1', '5'),\n",
              " ('1', '6'),\n",
              " ('2', '1'),\n",
              " ('2', '2'),\n",
              " ('2', '3'),\n",
              " ('2', '4'),\n",
              " ('2', '5'),\n",
              " ('2', '6'),\n",
              " ('3', '1'),\n",
              " ('3', '2'),\n",
              " ('3', '3'),\n",
              " ('3', '4'),\n",
              " ('3', '5'),\n",
              " ('3', '6'),\n",
              " ('4', '1'),\n",
              " ('4', '2'),\n",
              " ('4', '3'),\n",
              " ('4', '4'),\n",
              " ('4', '5'),\n",
              " ('4', '6'),\n",
              " ('5', '1'),\n",
              " ('5', '2'),\n",
              " ('5', '3'),\n",
              " ('5', '4'),\n",
              " ('5', '5'),\n",
              " ('5', '6'),\n",
              " ('6', '1'),\n",
              " ('6', '2'),\n",
              " ('6', '3'),\n",
              " ('6', '4'),\n",
              " ('6', '5'),\n",
              " ('6', '6')]"
            ]
          },
          "metadata": {
            "tags": []
          },
          "execution_count": 1
        }
      ]
    },
    {
      "cell_type": "code",
      "metadata": {
        "id": "w2LSzeKg1-XF",
        "colab_type": "code",
        "colab": {}
      },
      "source": [
        "#df = pd.DataFrame(np.array(liste))\n",
        "#df.columns = ['1.zar','2.zar']\n",
        "#df = pd.DataFrame(df[0].value_counts())\n",
        "#df"
      ],
      "execution_count": 0,
      "outputs": []
    },
    {
      "cell_type": "code",
      "metadata": {
        "id": "Ftiifg3n6OBd",
        "colab_type": "code",
        "colab": {}
      },
      "source": [
        "#tek sayıların toplma sayısını bulma \n",
        "zar=[1,2,3,4,5,6]\n",
        "count=0\n",
        "for i in list(zar):               \n",
        "    if i % 2 == 1:\n",
        "      count+=1\n",
        "      "
      ],
      "execution_count": 0,
      "outputs": []
    },
    {
      "cell_type": "code",
      "metadata": {
        "id": "XJzqTZ3F_ksh",
        "colab_type": "code",
        "colab": {}
      },
      "source": [
        "#X=0 olması durumu yani hiç tek sayı gelmemesi durumu\n",
        "sonuc1 = ((len(zar)-count)*(len(zar)-count))\n",
        "\n",
        "#X=1 olması durumu yani 1 tane tek sayı gelmesi durumu\n",
        "sonuc2 = (count*(len(zar)-count)+((len(zar)-count)*count))\n",
        "\n",
        "#X=2 olması durumu yani ikisinin de tek sayı gelmesi durumu\n",
        "sonuc3 = (count*count)\n"
      ],
      "execution_count": 0,
      "outputs": []
    },
    {
      "cell_type": "code",
      "metadata": {
        "id": "9DTLWTdoF4jJ",
        "colab_type": "code",
        "outputId": "5b8584a1-7822-4f9b-c3ee-858cd81f2df5",
        "colab": {
          "base_uri": "https://localhost:8080/",
          "height": 142
        }
      },
      "source": [
        "data = pd.DataFrame((sonuc1, sonuc2, sonuc3), columns=['sonuclar'])\n",
        "data[\"olasılık\"] = data[\"sonuclar\"]/length\n",
        "data"
      ],
      "execution_count": 0,
      "outputs": [
        {
          "output_type": "execute_result",
          "data": {
            "text/html": [
              "<div>\n",
              "<style scoped>\n",
              "    .dataframe tbody tr th:only-of-type {\n",
              "        vertical-align: middle;\n",
              "    }\n",
              "\n",
              "    .dataframe tbody tr th {\n",
              "        vertical-align: top;\n",
              "    }\n",
              "\n",
              "    .dataframe thead th {\n",
              "        text-align: right;\n",
              "    }\n",
              "</style>\n",
              "<table border=\"1\" class=\"dataframe\">\n",
              "  <thead>\n",
              "    <tr style=\"text-align: right;\">\n",
              "      <th></th>\n",
              "      <th>sonuclar</th>\n",
              "      <th>olasılık</th>\n",
              "    </tr>\n",
              "  </thead>\n",
              "  <tbody>\n",
              "    <tr>\n",
              "      <th>0</th>\n",
              "      <td>9</td>\n",
              "      <td>0.25</td>\n",
              "    </tr>\n",
              "    <tr>\n",
              "      <th>1</th>\n",
              "      <td>18</td>\n",
              "      <td>0.50</td>\n",
              "    </tr>\n",
              "    <tr>\n",
              "      <th>2</th>\n",
              "      <td>9</td>\n",
              "      <td>0.25</td>\n",
              "    </tr>\n",
              "  </tbody>\n",
              "</table>\n",
              "</div>"
            ],
            "text/plain": [
              "   sonuclar  olasılık\n",
              "0         9      0.25\n",
              "1        18      0.50\n",
              "2         9      0.25"
            ]
          },
          "metadata": {
            "tags": []
          },
          "execution_count": 7
        }
      ]
    },
    {
      "cell_type": "code",
      "metadata": {
        "id": "nkqJUimnHhYK",
        "colab_type": "code",
        "outputId": "12cdcfb1-e771-4dc7-d450-a6f8eb950392",
        "colab": {
          "base_uri": "https://localhost:8080/",
          "height": 313
        }
      },
      "source": [
        "rastgele_degislenler=[0,1,2]\n",
        "\n",
        "plt.title('Olasılık Kütle Fonksiyonu')\n",
        "plt.xlabel('Rastgele değişkenler: P(X=0), P(X=1), P(X=2)')\n",
        "plt.ylabel('Olasılıklar')\n",
        "\n",
        "plt.bar(rastgele_degislenler , data[\"olasılık\"])"
      ],
      "execution_count": 0,
      "outputs": [
        {
          "output_type": "execute_result",
          "data": {
            "text/plain": [
              "<BarContainer object of 3 artists>"
            ]
          },
          "metadata": {
            "tags": []
          },
          "execution_count": 9
        },
        {
          "output_type": "display_data",
          "data": {
            "image/png": "[encoded data removed]",
            "text/plain": [
              "<Figure size 432x288 with 1 Axes>"
            ]
          },
          "metadata": {
            "tags": []
          }
        }
      ]
    }
  ]
}