{
  "nbformat": 4,
  "nbformat_minor": 0,
  "metadata": {
    "colab": {
      "name": "Untitled8.ipynb",
      "version": "0.3.2",
      "provenance": [],
      "include_colab_link": true
    },
    "kernelspec": {
      "name": "python3",
      "display_name": "Python 3"
    }
  },
  "cells": [
    {
      "cell_type": "markdown",
      "metadata": {
        "id": "view-in-github",
        "colab_type": "text"
      },
      "source": [
        "<a href=\"https://colab.research.google.com/github/kubraerat/Advanced-Probability-for-Discrete-Systems/blob/master/PMF.ipynb\" target=\"_parent\"><img src=\"https://colab.research.google.com/assets/colab-badge.svg\" alt=\"Open In Colab\"/></a>"
      ]
    },
    {
      "cell_type": "markdown",
      "metadata": {
        "id": "zTmDJmwkTGYj",
        "colab_type": "text"
      },
      "source": [
        "# Soru:\n",
        "\n",
        "Bir zar iki kere atılıyor. Tek sayı gelmesine ait kesikli olasılık dağılımını bulunuz.\n",
        "\n",
        "# Çözüm: \n",
        "\n",
        "$s(S)=6x6=36$\n",
        "\n",
        "$S={(1,1), (1,2),(1,3),(1,4),(1,5),(1,6),(2,1), (2,2),(2,3),(2,4),(2,5),(2,6),(3,1), (3,2),(3,3),(3,4),(3,5),(3,6),(4,1), (4,2),(4,3),(4,4),(4,5),(4,6),(5,1), (5,2),(5,3),(5,4),(5,5),(5,6),(6,1), (6,2),(6,3),(6,4),(6,5),(6,6)}$\n",
        "\n",
        "\n",
        "\n",
        "** Rastgele değişken**\n",
        "\n",
        "$X:$Tek sayı gelmelerin sayısı\n",
        "\n",
        "$X={0,1,2}$\n",
        "\n",
        "\n",
        "\n",
        "**$PMF$**\n",
        "\n",
        "$X$ | $0$ | $1$ | $2$\n",
        "--- | --- | --- | ---\n",
        "$P(X=x)$ | $\\frac{9}{36}$ |  $\\frac{18}{36}$  |  $\\frac{9}{36}$\n",
        "\n",
        "\n",
        "$P(X=0) = \\frac{3}{6}*\\frac{3}{6}=\\frac{9}{36}$\n",
        "\n",
        "$P(X=1) = (\\frac{3}{6}*\\frac{3}{6}) + (\\frac{3}{6}*\\frac{3}{6})=\\frac{18}{36}$\n",
        "\n",
        "$P(X=2) = \\frac{3}{6}*\\frac{3}{6}=\\frac{9}{36}$\n",
        "\n",
        "\n"
      ]
    },
    {
      "cell_type": "code",
      "metadata": {
        "id": "v9u00oA-lzz2",
        "colab_type": "code",
        "colab": {
          "base_uri": "https://localhost:8080/",
          "height": 34
        },
        "outputId": "ff08ce88-1f14-4d53-da88-e187d6c2f98d"
      },
      "source": [
        "import numpy as np\n",
        "import pandas as pd\n",
        "import matplotlib.pyplot as plt\n",
        "import itertools \n",
        "\n",
        "\n",
        "#Örnek uzayın bulunması\n",
        "liste=list(itertools.product('123456', repeat=2))\n",
        "length = len(liste)\n",
        "length\n"
      ],
      "execution_count": 71,
      "outputs": [
        {
          "output_type": "stream",
          "text": [
            "('1', '1')\n"
          ],
          "name": "stdout"
        }
      ]
    },
    {
      "cell_type": "code",
      "metadata": {
        "id": "w2LSzeKg1-XF",
        "colab_type": "code",
        "colab": {}
      },
      "source": [
        "#df = pd.DataFrame(np.array(liste))\n",
        "#df.columns = ['1.zar','2.zar']\n",
        "#df = pd.DataFrame(df[0].value_counts())\n",
        "#df"
      ],
      "execution_count": 0,
      "outputs": []
    },
    {
      "cell_type": "code",
      "metadata": {
        "id": "77eQWom9qEgn",
        "colab_type": "code",
        "colab": {}
      },
      "source": [
        "#df[\"Prob\"] = df[\"1.zar\"]/length\n",
        "\n",
        "#df\n"
      ],
      "execution_count": 0,
      "outputs": []
    },
    {
      "cell_type": "code",
      "metadata": {
        "id": "Ftiifg3n6OBd",
        "colab_type": "code",
        "colab": {
          "base_uri": "https://localhost:8080/",
          "height": 34
        },
        "outputId": "f00f04da-7423-4de3-8a94-edece37d8ea3"
      },
      "source": [
        "zar=[1,2,3,4,5,6]\n",
        "count=0\n",
        "for i in list(zar):               \n",
        "    if i % 2 == 1:\n",
        "      count+=1\n",
        "print(count)\n",
        "      "
      ],
      "execution_count": 74,
      "outputs": [
        {
          "output_type": "stream",
          "text": [
            "3\n"
          ],
          "name": "stdout"
        }
      ]
    },
    {
      "cell_type": "code",
      "metadata": {
        "id": "XJzqTZ3F_ksh",
        "colab_type": "code",
        "colab": {}
      },
      "source": [
        "#X=0 olması durumu yani hiç tek sayı gelmemesi durumu\n",
        "sonuc1 = (count*count/length)\n",
        "#X=1 olması durumu yani 1 tane tek sayı gelmesi durumu\n",
        "sonuc2 = (count*count/length)+(count*count/length)\n",
        "#X=2 olması durumu yani ikisinin de tek sayı gelmesi durumu\n",
        "sonuc3 = (count*count/length)\n"
      ],
      "execution_count": 0,
      "outputs": []
    }
  ]
}