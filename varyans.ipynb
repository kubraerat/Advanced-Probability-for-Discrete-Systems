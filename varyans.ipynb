{
  "nbformat": 4,
  "nbformat_minor": 0,
  "metadata": {
    "colab": {
      "name": "Untitled9.ipynb",
      "version": "0.3.2",
      "provenance": [],
      "include_colab_link": true
    },
    "kernelspec": {
      "name": "python3",
      "display_name": "Python 3"
    }
  },
  "cells": [
    {
      "cell_type": "markdown",
      "metadata": {
        "id": "view-in-github",
        "colab_type": "text"
      },
      "source": [
        "<a href=\"https://colab.research.google.com/github/kubraerat/Advanced-Probability-for-Discrete-Systems/blob/master/varyans.ipynb\" target=\"_parent\"><img src=\"https://colab.research.google.com/assets/colab-badge.svg\" alt=\"Open In Colab\"/></a>"
      ]
    },
    {
      "cell_type": "markdown",
      "metadata": {
        "id": "mjLWklxs0VcL",
        "colab_type": "text"
      },
      "source": [
        "#**Beklenen Değer ve Varyans**\n",
        "\n",
        "\n",
        "---\n",
        "\n",
        "\n",
        "\n",
        "**Soru:**\n",
        "\n",
        " X rastgele değişkenin olasılık yoğunluk fonksiyonu,\n",
        " \n",
        "\n",
        "\n",
        "\\begin{align}\n",
        "f(x) = \\left\\{ \\begin{array}{cc} \n",
        "                3*x^{-4}& \\hspace{5mm} x>1 \\\\\n",
        "                0 & \\hspace{5mm} d.d. \\\\\n",
        "                \\end{array} \\right.\n",
        "\\end{align}\n",
        "\n",
        "olsun. X'in beklenen değerini ve varyansını bulunuz.\n",
        "\n",
        "\n",
        "---\n",
        "\n",
        "\n",
        "**Çözüm:**\n",
        "\n",
        "*Beklenen değeri:*\n",
        "\n",
        "$E[X]=\\int_{1}^{\\infty} x* 3*x^{-4} dx$=3$\\dfrac{x^{-2} }{-2}|_{1}^{\\infty} =\\frac{3}{2}$\n",
        "\n",
        "*Karesel Beklenen değer:*\n",
        "\n",
        "\n",
        "$E[X^2]=\\int_{1}^{\\infty} x^2* 3*x^{-4} dx$=3$\\dfrac{x^{-1} }{-1}|_{1}^{\\infty} =3$\n",
        "\n",
        "*Varyansı:*\n",
        "\n",
        "$Var(X) =E[X^2]-E[X]^2=3-(\\frac{3}{2})^2=\\frac{3}{4}$\n",
        "\n"
      ]
    },
    {
      "cell_type": "code",
      "metadata": {
        "id": "UpC8Ca7cqzOW",
        "colab_type": "code",
        "colab": {
          "base_uri": "https://localhost:8080/",
          "height": 68
        },
        "outputId": "e62e9f53-2b58-4a27-d9ff-2cd0b5893c2f"
      },
      "source": [
        "from scipy.integrate import quad\n",
        "import numpy as np\n",
        "\n",
        "\n",
        "def ex(x):\n",
        "    return x*3*math.pow(x,-4)\n",
        "\n",
        "E_X, err = quad(ex, 1, np.inf)\n",
        "print (\"Beklenen değer=\", E_X)\n",
        "\n",
        "\n",
        "def ex2(x):\n",
        "    return math.pow(x,2)*3*math.pow(x,-4)\n",
        "\n",
        "E_X2, err = quad(ex2, 1, np.inf)\n",
        "print (\"Karesel Beklenen değer=\", E_X2)\n",
        "\n",
        "\n",
        "#varyans\n",
        "varX=E_X2-E_X**2\n",
        "print (varX)"
      ],
      "execution_count": 42,
      "outputs": [
        {
          "output_type": "stream",
          "text": [
            "Beklenen değer= 1.5\n",
            "Karesel Beklenen değer= 3.0\n",
            "0.75\n"
          ],
          "name": "stdout"
        }
      ]
    }
  ]
}