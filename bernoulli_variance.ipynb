{
  "nbformat": 4,
  "nbformat_minor": 0,
  "metadata": {
    "colab": {
      "name": "Untitled10.ipynb",
      "version": "0.3.2",
      "provenance": [],
      "collapsed_sections": [],
      "include_colab_link": true
    },
    "kernelspec": {
      "name": "python3",
      "display_name": "Python 3"
    }
  },
  "cells": [
    {
      "cell_type": "markdown",
      "metadata": {
        "id": "view-in-github",
        "colab_type": "text"
      },
      "source": [
        "<a href=\"https://colab.research.google.com/github/kubraerat/Advanced-Probability-for-Discrete-Systems/blob/master/bernoulli_variance.ipynb\" target=\"_parent\"><img src=\"https://colab.research.google.com/assets/colab-badge.svg\" alt=\"Open In Colab\"/></a>"
      ]
    },
    {
      "cell_type": "markdown",
      "metadata": {
        "id": "iWOIZVfY4ZMN",
        "colab_type": "text"
      },
      "source": [
        "**Soru:** \n",
        "Hileli bir para atıldığında yazı gelme olasılığı %40, tura gelme olasılığı %60'tır. Zarın tura gelmesinin bernoulli prensibine göre beklenen değerini ve varyansını hesaplayınız.\n",
        "\n",
        "\n",
        "**Çözüm:**\n",
        "\n",
        "*Bernoulli Prensibi*\n",
        "\n",
        "$P(X=x)=p^x(1-p)^{1-x}, x=0,1$\n",
        "\n",
        "\n",
        "\n",
        "$X$ | $0$ | $1$ \n",
        "--- | --- | --- \n",
        "$P(X=x)$ | 1-p |  p  \n",
        "\n",
        "\n",
        "\n",
        "Paranın yazı gelme durumu: $ x=0$\n",
        "\n",
        "Paranın tura gelme durumu: $x=1$\n",
        "\n",
        "\n",
        "\n",
        "$ E[X]=$$\\sum{xP(X=x)}=0(1-p)+1p=p$\n",
        "\n",
        "$ E[X]=0*(1-\\frac{6}{10})+1*\\frac{6}{10}=\\frac{6}{10}$\n",
        "\n",
        "\n",
        "$ E[X^2]=$$\\sum{x^2P(X=x^2)}=0^2(1-p)+1^2p=p$\n",
        "\n",
        "$ E[X^2]=0^2*(1-\\frac{6}{10})+1^2*\\frac{6}{10}=\\frac{6}{10}$\n",
        "\n",
        "\n",
        "$ Var(X)=E[X^2]- E[X]^2=p-p^2=p(1-p)$\n",
        "\n",
        "$ Var(X)=\\frac{6}{10}-(\\frac{6}{10})^2=\\frac{24}{100}$\n",
        "\n"
      ]
    },
    {
      "cell_type": "code",
      "metadata": {
        "id": "DQ6eCk-XkMCW",
        "colab_type": "code",
        "colab": {
          "base_uri": "https://localhost:8080/",
          "height": 85
        },
        "outputId": "7a3c4810-a248-4300-fa27-9e8d290297ba"
      },
      "source": [
        "import math\n",
        "\n",
        "def var_x( px_1 ):\n",
        "  #beklenen değer\n",
        "  E_x=0*(1-px_1)+1*(px_1); \n",
        "  #karesel beklenen değer\n",
        "  E_x_2=math.pow(0,2)*(1-px_1)+math.pow(1,2)*px_1;   \n",
        "  #varyans\n",
        "  variance= E_x_2-math.pow(E_x,2)             \n",
        "  \n",
        "  print (\"Beklenen Değer: \", E_x);\n",
        "  print (\"Karesel Beklenen Değer: \", E_x_2);\n",
        "  \n",
        "  return variance \n",
        "  \n",
        "\n",
        "px_1=float(input(\"P(x=1) => Paranın tura gelme olasılığını giriniz:\"));\n",
        "\n",
        "varyans=var_x(px_1)\n",
        "print (\"Varyans: \", varyans);\n"
      ],
      "execution_count": 92,
      "outputs": [
        {
          "output_type": "stream",
          "text": [
            "P(x=1) => Paranın tura gelme olasılığını giriniz:0.6\n",
            "Beklenen Değer:  0.6\n",
            "Karesel Beklenen Değer:  0.6\n",
            "Varyans:  0.24\n"
          ],
          "name": "stdout"
        }
      ]
    }
  ]
}