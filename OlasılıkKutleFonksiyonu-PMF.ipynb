{
  "nbformat": 4,
  "nbformat_minor": 0,
  "metadata": {
    "colab": {
      "name": "Untitled8.ipynb",
      "version": "0.3.2",
      "provenance": [],
      "include_colab_link": true
    },
    "kernelspec": {
      "name": "python3",
      "display_name": "Python 3"
    }
  },
  "cells": [
    {
      "cell_type": "markdown",
      "metadata": {
        "id": "view-in-github",
        "colab_type": "text"
      },
      "source": [
        "<a href=\"https://colab.research.google.com/github/kubraerat/Advanced-Probability-for-Discrete-Systems/blob/master/Olas%C4%B1l%C4%B1kKutleFonksiyonu-PMF.ipynb\" target=\"_parent\"><img src=\"https://colab.research.google.com/assets/colab-badge.svg\" alt=\"Open In Colab\"/></a>"
      ]
    },
    {
      "metadata": {
        "id": "zTmDJmwkTGYj",
        "colab_type": "text"
      },
      "cell_type": "markdown",
      "source": [
        "# Soru:\n",
        "\n",
        "Bir zar iki kere atılıyor. Tek sayı gelmesine ait kesikli olasılık dağılımını bulunuz.\n",
        "\n",
        "# Çözüm: \n",
        "\n",
        "$s(S)=6x6=36$\n",
        "\n",
        "$S={(1,1), (1,2),(1,3),(1,4),(1,5),(1,6),\n",
        "(2,1), (2,2),(2,3),(2,4),(2,5),(2,6),\n",
        "(3,1), (3,2),(3,3),(3,4),(3,5),(3,6),\n",
        "(4,1), (4,2),(4,3),(4,4),(4,5),(4,6),\n",
        "(5,1), (5,2),(5,3),(5,4),(5,5),(5,6),\n",
        "(6,1), (6,2),(6,3),(6,4),(6,5),(6,6)}$\n",
        "\n",
        "\n",
        "\n",
        "** Rastgele değişken**\n",
        "\n",
        "$X:$Tek sayı gelmelerin sayısı\n",
        "\n",
        "$X={0,1,2}$\n",
        "\n",
        "\n",
        "\n",
        "**$PMF$**\n",
        "\n",
        "$X$ | $0$ | $1$ | $2$\n",
        "--- | --- | --- | ---\n",
        "$P(X=x)$ | $\\frac{9}{36}$ |  $\\frac{18}{36}$  |  $\\frac{9}{36}$\n",
        "\n",
        "\n",
        "$P(X=0) = \\frac{3}{6}*\\frac{3}{6}=\\frac{9}{36}$\n",
        "\n",
        "$P(X=1) = (\\frac{3}{6}*\\frac{3}{6}) + (\\frac{3}{6}*\\frac{3}{6})=\\frac{18}{36}$\n",
        "\n",
        "$P(X=2) = \\frac{3}{6}*\\frac{3}{6}=\\frac{9}{36}$\n",
        "\n",
        "\n"
      ]
    }
  ]
}