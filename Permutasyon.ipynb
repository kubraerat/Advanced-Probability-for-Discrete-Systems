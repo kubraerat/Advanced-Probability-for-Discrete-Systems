{
  "nbformat": 4,
  "nbformat_minor": 0,
  "metadata": {
    "colab": {
      "name": "Untitled2.ipynb",
      "version": "0.3.2",
      "provenance": [],
      "include_colab_link": true
    },
    "kernelspec": {
      "name": "python3",
      "display_name": "Python 3"
    }
  },
  "cells": [
    {
      "cell_type": "markdown",
      "metadata": {
        "id": "view-in-github",
        "colab_type": "text"
      },
      "source": [
        "<a href=\"https://colab.research.google.com/github/kubraerat/Advanced-Probability-for-Discrete-Systems/blob/master/Permutasyon.ipynb\" target=\"_parent\"><img src=\"https://colab.research.google.com/assets/colab-badge.svg\" alt=\"Open In Colab\"/></a>"
      ]
    },
    {
      "metadata": {
        "id": "I2HeFWHPyPeK",
        "colab_type": "code",
        "colab": {
          "base_uri": "https://localhost:8080/",
          "height": 34
        },
        "outputId": "a57c2f99-11f6-494e-85eb-eca60e4502d4"
      },
      "cell_type": "code",
      "source": [
        "\n",
        "#faktöriyel hesaplama\n",
        "def faktoriyel(sayi):\n",
        "  if sayi<=1:\n",
        "    return 1\n",
        "  else:\n",
        "    return sayi*faktoriyel(sayi-1)\n",
        "  \n",
        "A=[0,1,2,5,7]  \n",
        "\n",
        "\n"
      ],
      "execution_count": 5,
      "outputs": [
        {
          "output_type": "execute_result",
          "data": {
            "text/plain": [
              "120"
            ]
          },
          "metadata": {
            "tags": []
          },
          "execution_count": 5
        }
      ]
    },
    {
      "metadata": {
        "id": "bb-HDykZ0N3R",
        "colab_type": "text"
      },
      "cell_type": "markdown",
      "source": [
        "**Soru**:* A={0,1,2,5,7} kümesinin elemanlarını kullanarak rakamları farklı üç basamaklı, 500 den büyük kaç sayı yazılır ?*\n",
        "**Çözüm**: \n",
        "\n",
        "\n",
        "*   500 den büyük olması için yüzler basamağına 5 veya 7 gelebilir. 2 durum burdan.\n",
        "\n",
        "*   Onlar basamağı için 0,1,2,5,7 den biri gelebilir.\n",
        "\n",
        "\n",
        "*   4 farklı sayı gelebilir. bir rakam yüzlerde kullanıldığı için.\n",
        "*   Birler basamağı için geriye kalan 3 sayıdan birisi gelebilir; 3 farklı sayı gelebilir.\n",
        "\n",
        "\n",
        "2.4.3=24 farklı sayı elde edilebilir.\n",
        "\n"
      ]
    },
    {
      "metadata": {
        "id": "_l47edWZ0ihg",
        "colab_type": "text"
      },
      "cell_type": "markdown",
      "source": [
        ""
      ]
    }
  ]
}