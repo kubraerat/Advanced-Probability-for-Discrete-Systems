{
  "nbformat": 4,
  "nbformat_minor": 0,
  "metadata": {
    "colab": {
      "name": "Untitled8.ipynb",
      "version": "0.3.2",
      "provenance": [],
      "include_colab_link": true
    },
    "kernelspec": {
      "name": "python3",
      "display_name": "Python 3"
    }
  },
  "cells": [
    {
      "cell_type": "markdown",
      "metadata": {
        "id": "view-in-github",
        "colab_type": "text"
      },
      "source": [
        "<a href=\"https://colab.research.google.com/github/kubraerat/Advanced-Probability-for-Discrete-Systems/blob/master/Untitled8.ipynb\" target=\"_parent\"><img src=\"https://colab.research.google.com/assets/colab-badge.svg\" alt=\"Open In Colab\"/></a>"
      ]
    },
    {
      "metadata": {
        "id": "zTmDJmwkTGYj",
        "colab_type": "text"
      },
      "cell_type": "markdown",
      "source": [
        "# Soru:\n",
        "\n",
        "Bir zar iki kere atılıyor. Tek sayı gelmesine ait kesikli olasılık dağılımını bulunuz.\n",
        "\n",
        "# Çözüm: \n",
        "\n",
        "$s(S)=6x6=36$\n",
        "\n",
        "$S={(1,1), (1,2),(1,3),(1,4),(1,5),(1,6),(2,1), (2,2),(2,3),(2,4),(2,5),(2,6),(3,1), (3,2),(3,3),(3,4),(3,5),(3,6),(4,1), (4,2),(4,3),(4,4),(4,5),(4,6),(5,1), (5,2),(5,3),(5,4),(5,5),(5,6),(6,1), (6,2),(6,3),(6,4),(6,5),(6,6)}$\n",
        "\n",
        "\n",
        "\n",
        "** Rastgele değişken**\n",
        "\n",
        "$X:$Tek sayı gelmelerin sayısı\n",
        "\n",
        "$X={0,1,2}$\n",
        "\n",
        "\n",
        "\n",
        "**$PMF$**\n",
        "\n",
        "$X$ | $0$ | $1$ | $2$\n",
        "--- | --- | --- | ---\n",
        "$P(X=x)$ | $\\frac{9}{36}$ |  $\\frac{18}{36}$  |  $\\frac{9}{36}$\n",
        "\n",
        "\n",
        "$P(X=0) = \\frac{3}{6}*\\frac{3}{6}=\\frac{9}{36}$\n",
        "\n",
        "$P(X=1) = (\\frac{3}{6}*\\frac{3}{6}) + (\\frac{3}{6}*\\frac{3}{6})=\\frac{18}{36}$\n",
        "\n",
        "$P(X=2) = \\frac{3}{6}*\\frac{3}{6}=\\frac{9}{36}$\n",
        "\n",
        "\n"
      ]
    },
    {
      "metadata": {
        "id": "v9u00oA-lzz2",
        "colab_type": "code",
        "colab": {}
      },
      "cell_type": "code",
      "source": [
        "import numpy as np\n",
        "import pandas as pd\n",
        "import matplotlib.pyplot as plt\n",
        "import itertools \n",
        "\n",
        "l = list(permutations(range(1, 7),2))\n",
        "    "
      ],
      "execution_count": 0,
      "outputs": []
    },
    {
      "metadata": {
        "id": "2JYSUynipuyD",
        "colab_type": "code",
        "colab": {
          "base_uri": "https://localhost:8080/",
          "height": 235
        },
        "outputId": "7bc7b61e-17fd-4c27-b4e4-4b51efdc32c8"
      },
      "cell_type": "code",
      "source": [
        "df = pd.DataFrame(np.array(l), columns=['counts', 'b'])\n",
        "df = pd.DataFrame(df['counts'].value_counts()+1)\n",
        "df"
      ],
      "execution_count": 65,
      "outputs": [
        {
          "output_type": "execute_result",
          "data": {
            "text/html": [
              "<div>\n",
              "<style scoped>\n",
              "    .dataframe tbody tr th:only-of-type {\n",
              "        vertical-align: middle;\n",
              "    }\n",
              "\n",
              "    .dataframe tbody tr th {\n",
              "        vertical-align: top;\n",
              "    }\n",
              "\n",
              "    .dataframe thead th {\n",
              "        text-align: right;\n",
              "    }\n",
              "</style>\n",
              "<table border=\"1\" class=\"dataframe\">\n",
              "  <thead>\n",
              "    <tr style=\"text-align: right;\">\n",
              "      <th></th>\n",
              "      <th>counts</th>\n",
              "    </tr>\n",
              "  </thead>\n",
              "  <tbody>\n",
              "    <tr>\n",
              "      <th>6</th>\n",
              "      <td>6</td>\n",
              "    </tr>\n",
              "    <tr>\n",
              "      <th>5</th>\n",
              "      <td>6</td>\n",
              "    </tr>\n",
              "    <tr>\n",
              "      <th>4</th>\n",
              "      <td>6</td>\n",
              "    </tr>\n",
              "    <tr>\n",
              "      <th>3</th>\n",
              "      <td>6</td>\n",
              "    </tr>\n",
              "    <tr>\n",
              "      <th>2</th>\n",
              "      <td>6</td>\n",
              "    </tr>\n",
              "    <tr>\n",
              "      <th>1</th>\n",
              "      <td>6</td>\n",
              "    </tr>\n",
              "  </tbody>\n",
              "</table>\n",
              "</div>"
            ],
            "text/plain": [
              "   counts\n",
              "6       6\n",
              "5       6\n",
              "4       6\n",
              "3       6\n",
              "2       6\n",
              "1       6"
            ]
          },
          "metadata": {
            "tags": []
          },
          "execution_count": 65
        }
      ]
    },
    {
      "metadata": {
        "id": "77eQWom9qEgn",
        "colab_type": "code",
        "colab": {
          "base_uri": "https://localhost:8080/",
          "height": 235
        },
        "outputId": "29fc960d-2d55-4ae5-c34a-694ece3eae35"
      },
      "cell_type": "code",
      "source": [
        "length=len(l)+6\n",
        "\n",
        "df[\"Prob\"] = df[\"counts\"]/length\n",
        "\n",
        "df\n"
      ],
      "execution_count": 66,
      "outputs": [
        {
          "output_type": "execute_result",
          "data": {
            "text/html": [
              "<div>\n",
              "<style scoped>\n",
              "    .dataframe tbody tr th:only-of-type {\n",
              "        vertical-align: middle;\n",
              "    }\n",
              "\n",
              "    .dataframe tbody tr th {\n",
              "        vertical-align: top;\n",
              "    }\n",
              "\n",
              "    .dataframe thead th {\n",
              "        text-align: right;\n",
              "    }\n",
              "</style>\n",
              "<table border=\"1\" class=\"dataframe\">\n",
              "  <thead>\n",
              "    <tr style=\"text-align: right;\">\n",
              "      <th></th>\n",
              "      <th>counts</th>\n",
              "      <th>Prob</th>\n",
              "    </tr>\n",
              "  </thead>\n",
              "  <tbody>\n",
              "    <tr>\n",
              "      <th>6</th>\n",
              "      <td>6</td>\n",
              "      <td>0.166667</td>\n",
              "    </tr>\n",
              "    <tr>\n",
              "      <th>5</th>\n",
              "      <td>6</td>\n",
              "      <td>0.166667</td>\n",
              "    </tr>\n",
              "    <tr>\n",
              "      <th>4</th>\n",
              "      <td>6</td>\n",
              "      <td>0.166667</td>\n",
              "    </tr>\n",
              "    <tr>\n",
              "      <th>3</th>\n",
              "      <td>6</td>\n",
              "      <td>0.166667</td>\n",
              "    </tr>\n",
              "    <tr>\n",
              "      <th>2</th>\n",
              "      <td>6</td>\n",
              "      <td>0.166667</td>\n",
              "    </tr>\n",
              "    <tr>\n",
              "      <th>1</th>\n",
              "      <td>6</td>\n",
              "      <td>0.166667</td>\n",
              "    </tr>\n",
              "  </tbody>\n",
              "</table>\n",
              "</div>"
            ],
            "text/plain": [
              "   counts      Prob\n",
              "6       6  0.166667\n",
              "5       6  0.166667\n",
              "4       6  0.166667\n",
              "3       6  0.166667\n",
              "2       6  0.166667\n",
              "1       6  0.166667"
            ]
          },
          "metadata": {
            "tags": []
          },
          "execution_count": 66
        }
      ]
    }
  ]
}