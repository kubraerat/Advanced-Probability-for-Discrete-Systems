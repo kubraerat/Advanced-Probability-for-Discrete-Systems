{
  "nbformat": 4,
  "nbformat_minor": 0,
  "metadata": {
    "colab": {
      "name": "Untitled6.ipynb",
      "version": "0.3.2",
      "provenance": [],
      "include_colab_link": true
    },
    "kernelspec": {
      "name": "python3",
      "display_name": "Python 3"
    }
  },
  "cells": [
    {
      "cell_type": "markdown",
      "metadata": {
        "id": "view-in-github",
        "colab_type": "text"
      },
      "source": [
        "<a href=\"https://colab.research.google.com/github/kubraerat/Advanced-Probability-for-Discrete-Systems/blob/master/BayesTeoremi.ipynb\" target=\"_parent\"><img src=\"https://colab.research.google.com/assets/colab-badge.svg\" alt=\"Open In Colab\"/></a>"
      ]
    },
    {
      "metadata": {
        "id": "cNNAlJtXe-E2",
        "colab_type": "text"
      },
      "cell_type": "markdown",
      "source": [
        "![Bayes Teoremi Formülü](https://drive.google.com/open?id=1HWake-gh1b4OKXN9oijT3YwuLX_sVHG6)\n"
      ]
    },
    {
      "metadata": {
        "id": "6FJwISHo2Y0i",
        "colab_type": "text"
      },
      "cell_type": "markdown",
      "source": [
        "\n",
        "#**Soru1: ** \n",
        "\n",
        "*Cıvata üretilen bir fabrikada toplam üretimin %30’u A, %30’u B, %40’ı C makineleri tarafından\n",
        "yapılmaktadır. Bu makinelerin sırasıyla üretimlerinin %1’i, %3’ü ve %2’si kusurlu civatalardır. Bir\n",
        "günlük üretim sonunda bir cıvata seçiliyor ve kusurlu olduğu görülüyor. Bu civatanın A makinesi, B\n",
        "makinesi, C makinesinde üretilmiş olması olasılığı nedir?*\n",
        "\n",
        "\n",
        "\n",
        "\n",
        "\n",
        "***\n",
        "#**Çözüm:**\n",
        "\n",
        "\n",
        "1. makine: A   |  2. makine: B   |    3. makine: C \n",
        " --- |  ---    |  : --- |  ---    |  :--- |  ---    |  : \n",
        " %1 kusurlu %99 sağlam|%3 kusurlu %97 sağlam|%2 kusurlu %98 sağlam|\n",
        " \n",
        " \n",
        " \n",
        " \n",
        "Aşağıdaki olayları tanımlayalım.\n",
        "\n",
        "**E (örnek uzay):** Kusurlu üretilen cıvatalar\n",
        "\n",
        "**A olayı:** Cıvata A makinesinde üretildi.\n",
        "\n",
        "**B olayı:** Cıvata B makinesinde üretildi.\n",
        "\n",
        "**C olayı:** Cıvata C makinesinde üretildi.\n",
        "\n",
        "***\n",
        "\n",
        "O halde,\n",
        "\n",
        "$P(A)=0.30, P(E/A)=0.01$\n",
        "\n",
        "$P(B)=0.30, P(E/B)=0.03$\n",
        "\n",
        "$P(C)=0.40, P(E/C)=0.02$\n",
        "\n",
        "\n",
        "\n",
        "$P(A\\cap E)=P(A)*P(E/A)=(0.30)*(0.01)=0.003$\n",
        "\n",
        "$P(B\\cap E)=P(B)*P(E/B)=(0.30)*(0.03)=0.009$\n",
        "\n",
        "$P(C\\cap E)=P(C)*P(E/C)=(0.40)*(0.02)=0.008$\n",
        "\n",
        "***\n",
        "**Bayes teoremini kullanarak $P(A/E), P(B/E),  P(C/E)$  olasılığı aşağıdaki gibi bulunur.**\n",
        "\n",
        "\n",
        "$P(A/E)$=  $\\frac{P(A \\cap E)}{P(A\\cap E)+P(B\\cap E)+P(C\\cap E)}$ \n",
        "= $\\frac{0.003}{0.003+0.009+0.008}=0.15$ \n",
        "\n",
        "$P(B/E)$=  $\\frac{P(B \\cap E)}{P(A\\cap E)+P(B\\cap E)+P(C\\cap E)}$ \n",
        "= $\\frac{0.009}{0.003+0.009+0.008}=0.45$ \n",
        "\n",
        "$P(C/E)$=  $\\frac{P(C \\cap E)}{P(A\\cap E)+P(B\\cap E)+P(C\\cap E)}$ \n",
        "= $\\frac{0.008}{0.003+0.009+0.008}=0.4$ "
      ]
    },
    {
      "metadata": {
        "id": "zjxFosQWbmej",
        "colab_type": "code",
        "outputId": "e080c723-861a-4d36-e7a8-9e9d93648d54",
        "colab": {
          "base_uri": "https://localhost:8080/",
          "height": 289
        }
      },
      "cell_type": "code",
      "source": [
        "#Bayes Teoremi ile kusurlu üretimi yapildigi bilinen civatanın hangi makineden üretildigini bulma problemi\n",
        "satir = 0\n",
        "sutun = 0\n",
        "matris = []\n",
        "\n",
        "\n",
        "print(\"Matrisin satır sayısı: Makine sayısını,\\nMatrisin birinci sütunu: Cıvatanın ilgili makinede üretilme olasılığını;\\nİkinci sütunu: Cıvatanın ilgili makinede kusurlu üretilme olasılığını vermektedir.\")\n",
        "print(\"1.makine = A makinesi\\n2.makine = B makinesi\\n3.makine = C makinesi\")\n",
        "\n",
        "#Kullanicidan makine sayisi aliniyor ve bu sayi matrisin satir sayisini olusturmaktadir.\n",
        "satir = int(input(\"Makine sayısını giriniz:\"))\n",
        "sutun = 2\n",
        "\n",
        "#Makine sayisi kadar satira sahip matris olusturuluyor.\n",
        "for i in range(satir):           \n",
        "        matris += [[0] *2]\n",
        "\n",
        "#Kullanicidan alınan veriler ile matrisin satir ve sütunlarina degeri atanarak veriler tek bir yapida toplaniyor.\n",
        "for i in range(satir):           \n",
        "    for j in range(2):\n",
        "        sayi = float(input(\"%s. satir %s. sütun elemanını giriniz:\" %(i+1,j+1)))\n",
        "        matris[i][j] = sayi\n",
        "\n",
        "\n",
        "#P(A∩E)+P(B∩E)+P(C∩E) degeri yani toplam kusurlu civata üretiminin olasiligi hesaplaniyor.\n",
        "sonuc=0\n",
        "for i in range(satir):            \n",
        "    sonuc+=matris[i][0]*matris[i][1]\n",
        "\n",
        "\n",
        "#Bayes teoremi ile her bir makine icin ayri ayri kusurlu oldugu bilinen civatanin hangi makinede üretildiginin olasiligi hesaplaniyor.\n",
        "sonuc2=0\n",
        "for i in range(satir):\n",
        "    sonuc2=matris[i][0]*matris[i][1]        \n",
        "    print(\"Kusurlu civatanın %s makinede üretilme olasılığı= \"%(i+1), sonuc2/sonuc)\n"
      ],
      "execution_count": 12,
      "outputs": [
        {
          "output_type": "stream",
          "text": [
            "Matrisin satır sayısı: Makine sayısını,\n",
            "Matrisin birinci sütunu: Cıvatanın ilgili makinede üretilme olasılığını;\n",
            "İkinci sütunu: Cıvatanın ilgili makinede kusurlu üretilme olasılığını vermektedir.\n",
            "1.makine = A makinesi\n",
            "2.makine = B makinesi\n",
            "3.makine = C makinesi\n",
            "Makine sayısını giriniz:3\n",
            "1. satir 1. sütun elemanını giriniz:0.30\n",
            "1. satir 2. sütun elemanını giriniz:0.01\n",
            "2. satir 1. sütun elemanını giriniz:0.30\n",
            "2. satir 2. sütun elemanını giriniz:0.03\n",
            "3. satir 1. sütun elemanını giriniz:0.40\n",
            "3. satir 2. sütun elemanını giriniz:0.02\n",
            "Kusurlu civatanın 1 makinede üretilme olasılığı=  0.15\n",
            "Kusurlu civatanın 2 makinede üretilme olasılığı=  0.44999999999999996\n",
            "Kusurlu civatanın 3 makinede üretilme olasılığı=  0.4\n"
          ],
          "name": "stdout"
        }
      ]
    },
    {
      "metadata": {
        "id": "f7K-l1tdFWZD",
        "colab_type": "code",
        "outputId": "0deb8412-a848-4585-8dc8-050f1e1b967f",
        "colab": {
          "base_uri": "https://localhost:8080/",
          "height": 68
        }
      },
      "cell_type": "code",
      "source": [
        "\n",
        "#A makinesinden üretilmiş olma olasılığı\n",
        "\n",
        "sonucA=(0.01*0.3)/(0.01*0.3+0.03*0.3+0.02*0.4)\n",
        "\n",
        "print (\"Kusurlu civatanın A makinesinde üretilme olasılığı: \", sonucA)\n",
        "\n",
        "#B makinesinden üretilmiş olma olasılığı\n",
        "\n",
        "sonucB=(0.03*0.3)/(0.01*0.3+0.03*0.3+0.02*0.4)\n",
        "\n",
        "print (\"Kusurlu civatanın B makinesinde üretilme olasılığı: \", sonucB)\n",
        "\n",
        "#C makinesinden üretilmiş olma olasılığı\n",
        "\n",
        "sonucC=(0.02*0.4)/(0.01*0.3+0.03*0.3+0.02*0.4)\n",
        "\n",
        "print (\"Kusurlu civatanın C makinesinde üretilme olasılığı: \", sonucC)\n",
        "\n",
        "\n"
      ],
      "execution_count": 0,
      "outputs": [
        {
          "output_type": "stream",
          "text": [
            "Kusurlu civatanın A makinesinde üretilme olasılığı:  0.15\n",
            "Kusurlu civatanın B makinesinde üretilme olasılığı:  0.44999999999999996\n",
            "Kusurlu civatanın C makinesinde üretilme olasılığı:  0.4\n"
          ],
          "name": "stdout"
        }
      ]
    },
    {
      "metadata": {
        "id": "V04mO9BmUIFC",
        "colab_type": "text"
      },
      "cell_type": "markdown",
      "source": [
        "#**Soru2:**  \n",
        "*Bir yarışmada yarışmacılara 2 jüri üyesi dörder soru yöneltiyor. Yarışmacı bir üst tura geçebilmek için her bir jüri üyesinin en az 3 sorusunu doğru cevaplandırmak zorundadır. *\n",
        "\n",
        "*Sorulan tüm sorulara cevap veren bir yarışmacı toplam 6 soruyu doğru cevaplandırdığına göre, bir üst tura geçme olasılığı kaçtır? *\n",
        "\n",
        "#**Çözüm: **\n",
        "\n",
        "\n",
        "**A olayı (istenen durum): **  bir üst tura geçme \n",
        "\n",
        "\n",
        "**B olayı (bilinen durum): ** 6 soruyu doğru yanıtlaması\n",
        "\n",
        "\n",
        "**Tüm durumlar:** $2^8$\n",
        "\n",
        "\n",
        "\n",
        "$P(A/B) =$ $\\frac{P(A\\cap B)}{P(B)}$ =$\\frac{\\frac{\\binom{4}{3}*\\binom{4}{3}}{2^8}}{\\frac{\\binom{8}{6}}{2^8}}$ =$\\frac{4*4*2}{8*7}=\\frac{4}{7}=0.57$"
      ]
    },
    {
      "metadata": {
        "id": "RdEmE_OIA8Y4",
        "colab_type": "code",
        "outputId": "14582fbb-04a3-4924-aad4-b5158ba38008",
        "colab": {
          "base_uri": "https://localhost:8080/",
          "height": 34
        }
      },
      "cell_type": "code",
      "source": [
        "import math\n",
        "\n",
        "#kombinasyon hesaplama\n",
        "def comb(n,r):\n",
        "    f = math.factorial\n",
        "    return f(n) / (f(r) * f(n-r))\n",
        "  \n",
        "  \n",
        "\n",
        "#bayes formülü ile sonuç hesaplama\n",
        "sonuc=((comb(4,3)*comb(4,3))/(2^8))/(comb(8,6)/(2^8))\n",
        "\n",
        "print (sonuc)"
      ],
      "execution_count": 0,
      "outputs": [
        {
          "output_type": "stream",
          "text": [
            "0.5714285714285715\n"
          ],
          "name": "stdout"
        }
      ]
    }
  ]
}