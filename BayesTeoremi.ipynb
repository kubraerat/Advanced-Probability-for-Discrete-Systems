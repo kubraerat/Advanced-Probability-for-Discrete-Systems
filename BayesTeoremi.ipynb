{
  "nbformat": 4,
  "nbformat_minor": 0,
  "metadata": {
    "colab": {
      "name": "Untitled6.ipynb",
      "version": "0.3.2",
      "provenance": [],
      "include_colab_link": true
    },
    "kernelspec": {
      "name": "python3",
      "display_name": "Python 3"
    }
  },
  "cells": [
    {
      "cell_type": "markdown",
      "metadata": {
        "id": "view-in-github",
        "colab_type": "text"
      },
      "source": [
        "<a href=\"https://colab.research.google.com/github/kubraerat/Advanced-Probability-for-Discrete-Systems/blob/master/BayesTeoremi.ipynb\" target=\"_parent\"><img src=\"https://colab.research.google.com/assets/colab-badge.svg\" alt=\"Open In Colab\"/></a>"
      ]
    },
    {
      "metadata": {
        "id": "6FJwISHo2Y0i",
        "colab_type": "text"
      },
      "cell_type": "markdown",
      "source": [
        "![Bayes Teoremi](https://drive.google.com/drive/folders/1GXgrGY3vFwGzw1ZptD2swVm4Hi-7_1qo)\n",
        "\n",
        "\n",
        "\n",
        "---\n",
        "\n",
        "\n",
        "**Soru1: ** \n",
        "\n",
        "Cıvata üretilen bir fabrikada toplam üretimin %30’u A, %30’u B, %40’ı C makineleri tarafından\n",
        "yapılmaktadır. Bu makinelerin sırasıyla üretimlerinin %1’i, %3’ü ve %2’si kusurlu civatalardır. Bir\n",
        "günlük üretim sonunda bir cıvata seçiliyor ve kusurlu olduğu görülüyor. Bu civatanın A makinesi, B\n",
        "makinesi, C makinesinde üretilmiş olması olasılığı nedir?\n",
        "\n",
        "\n",
        "---\n",
        "\n",
        "\n",
        "**Çözüm:**\n",
        "\n",
        "\n",
        "Aşağıdaki olayları tanımlayalım.\n",
        "\n",
        "**E:** Kusurlu cıvata\n",
        "\n",
        "**A olayı:** Cıvata A makinesinde yapıldı.\n",
        "\n",
        "**B olayı:** Cıvata B makinesinde yapıldı.\n",
        "\n",
        "**C olayı:** Cıvata C makinesinde yapıldı.\n",
        "\n",
        "\n",
        "O halde,\n",
        "\n",
        "P(A)=0.30, P(E/A)=0.01,\n",
        "\n",
        "P(B)=0.30, P(E/B)=0.03,\n",
        "\n",
        "P(C)=0.40, P(E/C)=0.02 dir. \n",
        "\n",
        "\n",
        "\n",
        "P(A…E)=P(A).P(E/A)=(0.30).(0.01)=0.003\n",
        "\n",
        "P(B…E)=P(B).P(E/B)=(0.30).(0.03)=0.009\n",
        "\n",
        "P(C…E)=P(C).P(E/C)=(0.40).(0.02)=0.008 olur.\n",
        "\n"
      ]
    },
    {
      "metadata": {
        "id": "f7K-l1tdFWZD",
        "colab_type": "code",
        "colab": {
          "base_uri": "https://localhost:8080/",
          "height": 68
        },
        "outputId": "0deb8412-a848-4585-8dc8-050f1e1b967f"
      },
      "cell_type": "code",
      "source": [
        "\n",
        "#A makinesinden üretilmiş olma olasılığı\n",
        "\n",
        "sonucA=(0.01*0.3)/(0.01*0.3+0.03*0.3+0.02*0.4)\n",
        "\n",
        "print (\"Kusurlu civatanın A makinesinde üretilme olasılığı: \", sonucA)\n",
        "\n",
        "#B makinesinden üretilmiş olma olasılığı\n",
        "\n",
        "sonucB=(0.03*0.3)/(0.01*0.3+0.03*0.3+0.02*0.4)\n",
        "\n",
        "print (\"Kusurlu civatanın B makinesinde üretilme olasılığı: \", sonucB)\n",
        "\n",
        "#C makinesinden üretilmiş olma olasılığı\n",
        "\n",
        "sonucC=(0.02*0.4)/(0.01*0.3+0.03*0.3+0.02*0.4)\n",
        "\n",
        "print (\"Kusurlu civatanın C makinesinde üretilme olasılığı: \", sonucC)\n",
        "\n",
        "\n"
      ],
      "execution_count": 10,
      "outputs": [
        {
          "output_type": "stream",
          "text": [
            "Kusurlu civatanın A makinesinde üretilme olasılığı:  0.15\n",
            "Kusurlu civatanın B makinesinde üretilme olasılığı:  0.44999999999999996\n",
            "Kusurlu civatanın C makinesinde üretilme olasılığı:  0.4\n"
          ],
          "name": "stdout"
        }
      ]
    },
    {
      "metadata": {
        "id": "V04mO9BmUIFC",
        "colab_type": "text"
      },
      "cell_type": "markdown",
      "source": [
        "**Soru2:** Bir yarışmada yarışmacılara 2 jüri üyesi dörder soru yöneltiyor. Yarışmacı bir üst tura geçebilmek için her bir jüri üyesinin en az 3 sorusunu doğru cevaplandırmak zorundadır. \n",
        "\n",
        "Sorulan tüm sorulara cevap veren bir yarışmacı toplam 6 soruyu doğru cevaplandırdığına göre, bir üst tura geçme olasılığı kaçtır?\n",
        "\n",
        "**Çözüm: **\n",
        "\n",
        "Tüm durum: 2^8\n",
        "\n",
        "Bilinen durum: 6 soruyu doğru yanıtlaması\n",
        "\n",
        "İstanen durum: \n",
        "\n",
        "P(A\\B)= P(AUB)/P(B)=((C(4,3)C(4,3))/2^8)/(C(8,6)/2^8)=4.4.2/8.7=4/7"
      ]
    }
  ]
}