{
  "nbformat": 4,
  "nbformat_minor": 0,
  "metadata": {
    "colab": {
      "name": "Untitled11.ipynb",
      "version": "0.3.2",
      "provenance": [],
      "include_colab_link": true
    },
    "kernelspec": {
      "name": "python3",
      "display_name": "Python 3"
    }
  },
  "cells": [
    {
      "cell_type": "markdown",
      "metadata": {
        "id": "view-in-github",
        "colab_type": "text"
      },
      "source": [
        "<a href=\"https://colab.research.google.com/github/kubraerat/Advanced-Probability-for-Discrete-Systems/blob/master/binomial.ipynb\" target=\"_parent\"><img src=\"https://colab.research.google.com/assets/colab-badge.svg\" alt=\"Open In Colab\"/></a>"
      ]
    },
    {
      "cell_type": "markdown",
      "metadata": {
        "id": "h5w7P75EAkyX",
        "colab_type": "text"
      },
      "source": [
        "# **BINOMIAL** \n",
        "\n",
        "$X$ rastgele değişkeninin binomial dağılımı:\n",
        "\n",
        "$X$~$Bin(n,p)$\n",
        "\n",
        " *Binomial dağılımının olasılık fonksiyonu*:\n",
        "\n",
        "$P(X=k)=\\binom{n}{k}p^k(1-p)^{n-k}$ $k=0,1,...,n$\n",
        "\n",
        "*Beklenen değeri*:\n",
        "\n",
        "$E[X]=np$\n",
        "\n",
        "*Varyansı*:\n",
        "\n",
        "$Var(X)=np(1-p)$"
      ]
    },
    {
      "cell_type": "markdown",
      "metadata": {
        "id": "2aD84uOzCtyR",
        "colab_type": "text"
      },
      "source": [
        "**SORU:**\n",
        "\n",
        "Bir şehirde bulunan evlerin %95'inde televizyon bulunmaktadır.\n",
        "\n",
        "Bu şehirden seçilen 20 evden,\n",
        "\n",
        "\n",
        "1.   İkisinde televizyon bulunmama olasılığı\n",
        "2.   En az ikisinde televizyon bulunma olasılığı\n",
        "1.   En çok ikisinde televizyon bulunma olasılığını hesaplayınız.\n",
        "\n",
        "\n",
        "\n"
      ]
    },
    {
      "cell_type": "markdown",
      "metadata": {
        "id": "YplzJqjKG7t6",
        "colab_type": "text"
      },
      "source": [
        "**ÇÖZÜM**\n",
        "\n",
        "$p=0.95$\n",
        "\n",
        "\n",
        "\n",
        "1.   \n",
        "$X$~$Bin(20,0.95)$\n",
        "\n",
        "$P(X=18)=\\binom{20}{18}0.95^{18}(1-0.95)^{20-18}$ \n",
        "2.   $1-\\binom{20}{0}0.95^0(1-0.95)^{20} - \\binom{20}{1}0.95^1(1-0.95)^{19} $ \n",
        "1.   $1-\\binom{20}{0}0.95^0(1-0.95)^{20} - \\binom{20}{1}0.95^1(1-0.95)^{19}- \\binom{20}{2}0.95^2(1-0.95)^{18} $\n",
        "\n",
        "\n",
        "\n",
        "\n"
      ]
    },
    {
      "cell_type": "code",
      "metadata": {
        "id": "8FRpYBN1J4mW",
        "colab_type": "code",
        "outputId": "59db2754-04b3-4b8f-c9ad-7ccab225cb69",
        "colab": {
          "base_uri": "https://localhost:8080/",
          "height": 68
        }
      },
      "source": [
        "from math import factorial \n",
        "import math\n",
        "\n",
        "#1.sorunun çözümü\n",
        "sonuc1=(factorial(20) / (factorial(18) * factorial(2))) * math.pow(0.95,18) * math.pow((1-0.95),(20-18));\n",
        "print(\"1.çözüm: \", sonuc1)\n",
        "\n",
        "\n",
        "#2. sorunun çözümü\n",
        "sonuc2=1-((factorial(20) / (factorial(20) * factorial(0))) * math.pow(0.95,0) * math.pow((1-0.95),20)-((factorial(20) / (factorial(19) * factorial(1))) * math.pow(0.95,1) * math.pow((1-0.95),19)));\n",
        "print(\"2.çözüm: \", sonuc2)\n",
        "\n",
        "#3. sorunun çözümü\n",
        "sonuc3=(factorial(20) / (factorial(20) * factorial(0))) * math.pow(0.95,0) * math.pow((1-0.95),20)-((factorial(20) / (factorial(19) * factorial(1))) * math.pow(0.95,1) * math.pow((1-0.95),19))-(factorial(20) / (factorial(18) * factorial(2))) * math.pow(0.95,2) * math.pow((1-0.95),18);\n",
        "print(\"3.çözüm: \", sonuc3)\n"
      ],
      "execution_count": 3,
      "outputs": [
        {
          "output_type": "stream",
          "text": [
            "1.çözüm:  0.188676801267654\n",
            "2.çözüm:  1.0\n",
            "3.çözüm:  -6.577396392822372e-22\n"
          ],
          "name": "stdout"
        }
      ]
    },
    {
      "cell_type": "code",
      "metadata": {
        "id": "tsiAsGcBL0W9",
        "colab_type": "code",
        "outputId": "4ce0292e-6a4d-438e-f827-0d477332a102",
        "colab": {
          "base_uri": "https://localhost:8080/",
          "height": 68
        }
      },
      "source": [
        "#binom hazır fonksiyonu kullanarak \n",
        "# parameters are k, n and p\n",
        "from scipy.stats import binom\n",
        "\n",
        "sonuc1=binom.pmf(18, 20, 0.95);\n",
        "\n",
        "print(\"1.çözüm: \", sonuc1)\n",
        "\n",
        "sonuc2=1-sum([binom.pmf(x, 20, 0.95) for x in range(2)]);\n",
        "\n",
        "print(\"2.çözüm: \", sonuc2)\n",
        "                                  \n",
        "sonuc3=sum([binom.pmf(x, 20, 0.95) for x in range(3)]);\n",
        "\n",
        "print(\"3.çözüm: \", sonuc3)  \n"
      ],
      "execution_count": 4,
      "outputs": [
        {
          "output_type": "stream",
          "text": [
            "1.çözüm:  0.18867680126765382\n",
            "2.çözüm:  1.0\n",
            "3.çözüm:  6.577587127685638e-22\n"
          ],
          "name": "stdout"
        }
      ]
    },
    {
      "cell_type": "code",
      "metadata": {
        "id": "K2Z-Bz7gTxNZ",
        "colab_type": "code",
        "outputId": "20f28306-472d-44ed-fb2b-739716392d38",
        "colab": {
          "base_uri": "https://localhost:8080/",
          "height": 295
        }
      },
      "source": [
        "import matplotlib.pyplot as plt\n",
        "\n",
        "plt.bar(range(21), [binom.pmf(x, 20, 0.95) for x in range(21)])\n",
        "plt.xlabel('k')\n",
        "plt.ylabel('P(X=k)')\n",
        "plt.title('Binomial PMF')\n",
        "plt.show()"
      ],
      "execution_count": 5,
      "outputs": [
        {
          "output_type": "display_data",
          "data": {
            "image/png": "[encoded data removed]",
            "text/plain": [
              "<Figure size 432x288 with 1 Axes>"
            ]
          },
          "metadata": {
            "tags": []
          }
        }
      ]
    }
  ]
}