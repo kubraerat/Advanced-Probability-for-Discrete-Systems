{
  "nbformat": 4,
  "nbformat_minor": 0,
  "metadata": {
    "colab": {
      "name": "Untitled11.ipynb",
      "version": "0.3.2",
      "provenance": [],
      "include_colab_link": true
    },
    "kernelspec": {
      "name": "python3",
      "display_name": "Python 3"
    }
  },
  "cells": [
    {
      "cell_type": "markdown",
      "metadata": {
        "id": "view-in-github",
        "colab_type": "text"
      },
      "source": [
        "<a href=\"https://colab.research.google.com/github/kubraerat/Advanced-Probability-for-Discrete-Systems/blob/master/binomial.ipynb\" target=\"_parent\"><img src=\"https://colab.research.google.com/assets/colab-badge.svg\" alt=\"Open In Colab\"/></a>"
      ]
    },
    {
      "cell_type": "markdown",
      "metadata": {
        "id": "h5w7P75EAkyX",
        "colab_type": "text"
      },
      "source": [
        "# **BINOMIAL** \n",
        "\n",
        "$X$ rastgele değişkeninin binomial dağılımı:\n",
        "\n",
        "$X$~$Bin(n,p)$\n",
        "\n",
        " *Binomial dağılımının olasılık fonksiyonu*:\n",
        "\n",
        "$P(X=k)=\\binom{n}{k}p^k(1-p)^{n-k}$ $k=0,1,...,n$\n",
        "\n",
        "*Beklenen değeri*:\n",
        "\n",
        "$E[X]=np$\n",
        "\n",
        "*Varyansı*:\n",
        "\n",
        "$Var(X)=np(1-p)$"
      ]
    },
    {
      "cell_type": "markdown",
      "metadata": {
        "id": "2aD84uOzCtyR",
        "colab_type": "text"
      },
      "source": [
        "**SORU:**\n",
        "\n",
        "Bir şehirde bulunan evlerin %95'inde televizyon bulunmaktadır.\n",
        "\n",
        "Bu şehirden seçilen 20 evden,\n",
        "\n",
        "\n",
        "1.   İkisinde televizyon bulunmama olasılığı\n",
        "2.   En az ikisinde televizyon bulunma olasılığı\n",
        "1.   En çok ikisinde televizyon bulunma olasılığını hesaplayınız.\n",
        "\n",
        "\n",
        "\n"
      ]
    },
    {
      "cell_type": "markdown",
      "metadata": {
        "id": "YplzJqjKG7t6",
        "colab_type": "text"
      },
      "source": [
        "**ÇÖZÜM**\n",
        "\n",
        "$p=0.95$\n",
        "\n",
        "\n",
        "\n",
        "1.   \n",
        "$X$~$Bin(20,0.95)$\n",
        "\n",
        "$P(X=18)=\\binom{20}{18}0.95^{18}(1-0.95)^{20-18}$ \n",
        "2.   $1-\\binom{20}{0}0.95^0(1-0.95)^{20} - \\binom{20}{1}0.95^1(1-0.95)^{19} $ \n",
        "1.   $1-\\binom{20}{0}0.95^0(1-0.95)^{20} - \\binom{20}{1}0.95^1(1-0.95)^{19}- \\binom{20}{2}0.95^2(1-0.95)^{18} $\n",
        "\n",
        "\n",
        "\n",
        "\n"
      ]
    },
    {
      "cell_type": "code",
      "metadata": {
        "id": "8FRpYBN1J4mW",
        "colab_type": "code",
        "colab": {
          "base_uri": "https://localhost:8080/",
          "height": 68
        },
        "outputId": "f77b4167-3f86-439a-a67d-047aa608f069"
      },
      "source": [
        "#1.sorunun çözümü\n",
        "\n",
        "from math import factorial \n",
        "\n",
        "sonuc1=(factorial(20) / (factorial(18) * factorial(2))) * 0.95 ** 18 * (1-0.95) ** (20-18);\n",
        "\n",
        "print (sonuc1)\n",
        "\n",
        "#2. sorunun çözümü\n",
        "\n",
        "sonuc2=1-((factorial(20) / (factorial(20) * factorial(0))) * 0.95 ** 0 * (1-0.95) ** (20))-((factorial(20) / (factorial(19) * factorial(1))) * 0.95 ** 1 * (1-0.95) ** (19));\n",
        "\n",
        "print (sonuc2)\n",
        "\n",
        "#3. sorunun çözümü\n",
        "\n",
        "sonuc3=1-((factorial(20) / (factorial(20) * factorial(0))) * 0.95 ** 0 * (1-0.95) ** (20))-((factorial(20) / (factorial(19) * factorial(1))) * 0.95 ** 1 * (1-0.95) ** (19))-((factorial(20) / (factorial(18) * factorial(2))) * 0.95 ** 2 * (1-0.95) ** (18));\n",
        "\n",
        "print (sonuc3)"
      ],
      "execution_count": 5,
      "outputs": [
        {
          "output_type": "stream",
          "text": [
            "0.188676801267654\n",
            "1.0\n",
            "1.0\n"
          ],
          "name": "stdout"
        }
      ]
    },
    {
      "cell_type": "code",
      "metadata": {
        "id": "tsiAsGcBL0W9",
        "colab_type": "code",
        "colab": {
          "base_uri": "https://localhost:8080/",
          "height": 68
        },
        "outputId": "31b6008e-c143-4d9e-c23a-0f3a4f595fdb"
      },
      "source": [
        "#binom hazır fonksiyonu kullarak \n",
        "# parameters are k, n and p\n",
        "from scipy.stats import binom\n",
        "\n",
        "sonuc1=binom.pmf(18, 20, 0.95);\n",
        "\n",
        "print(sonuc1)\n",
        "\n",
        "sonuc2=1-(binom.pmf(0, 20, 0.95)-(binom.pmf(1, 20, 0.95)));\n",
        "\n",
        "print(sonuc2)\n",
        "                                  \n",
        "sonuc3=1-(binom.pmf(0, 20, 0.95)-(binom.pmf(1, 20, 0.95))-(binom.pmf(2, 20, 0.95)));\n",
        "\n",
        "print(sonuc3)                                  "
      ],
      "execution_count": 8,
      "outputs": [
        {
          "output_type": "stream",
          "text": [
            "0.18867680126765382\n",
            "1.0\n",
            "1.0\n"
          ],
          "name": "stdout"
        }
      ]
    }
  ]
}