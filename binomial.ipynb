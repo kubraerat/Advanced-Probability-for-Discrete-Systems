{
  "nbformat": 4,
  "nbformat_minor": 0,
  "metadata": {
    "colab": {
      "name": "Untitled11.ipynb",
      "version": "0.3.2",
      "provenance": [],
      "include_colab_link": true
    },
    "kernelspec": {
      "name": "python3",
      "display_name": "Python 3"
    }
  },
  "cells": [
    {
      "cell_type": "markdown",
      "metadata": {
        "id": "view-in-github",
        "colab_type": "text"
      },
      "source": [
        "<a href=\"https://colab.research.google.com/github/kubraerat/Advanced-Probability-for-Discrete-Systems/blob/master/binomial.ipynb\" target=\"_parent\"><img src=\"https://colab.research.google.com/assets/colab-badge.svg\" alt=\"Open In Colab\"/></a>"
      ]
    },
    {
      "cell_type": "markdown",
      "metadata": {
        "id": "h5w7P75EAkyX",
        "colab_type": "text"
      },
      "source": [
        "**BINOMIAL** \n",
        "\n",
        "$X$ rastgele değişkeninin binomial dağılımı:\n",
        "\n",
        "$X$~$Bin(n,p)$\n",
        "\n",
        "*Binomial dağılımının olasılık fonksiyonu*:\n",
        "\n",
        "$P(X=k)=\\binom{n}{k}p^k(1-p)^{n-k}$ $k=0,1,...,n$\n",
        "\n",
        "*Beklenen değeri*:\n",
        "\n",
        "$E[X]=np$\n",
        "\n",
        "*Varyansı*:\n",
        "\n",
        "$Var(X)=np(1-p)$"
      ]
    }
  ]
}