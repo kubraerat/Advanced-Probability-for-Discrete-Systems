{
  "nbformat": 4,
  "nbformat_minor": 0,
  "metadata": {
    "colab": {
      "name": "Untitled2.ipynb",
      "version": "0.3.2",
      "provenance": [],
      "include_colab_link": true
    },
    "kernelspec": {
      "name": "python3",
      "display_name": "Python 3"
    }
  },
  "cells": [
    {
      "cell_type": "markdown",
      "metadata": {
        "id": "view-in-github",
        "colab_type": "text"
      },
      "source": [
        "<a href=\"https://colab.research.google.com/github/kubraerat/Advanced-Probability-for-Discrete-Systems/blob/master/Kombinasyon2.ipynb\" target=\"_parent\"><img src=\"https://colab.research.google.com/assets/colab-badge.svg\" alt=\"Open In Colab\"/></a>"
      ]
    },
    {
      "metadata": {
        "id": "bb-HDykZ0N3R",
        "colab_type": "text"
      },
      "cell_type": "markdown",
      "source": [
        "**Soru**:* A={0,1,2,5,7,9} kümesinin elemanlarını kullanarak rakamları farklı üç basamaklı, 500 den büyük kaç sayı yazılır ?*\n",
        "\n",
        "**Çözüm**: \n",
        "\n",
        "\n",
        "*   500 den büyük olması için yüzler basamağına 5 , 7 veya 9 gelebilir. 3 durum burdan.\n",
        "\n",
        "*   Onlar basamağı için 0,1,2,5,7,9 den biri gelebilir. Bir rakam yüzlerde kullanıldığı için, 5 farklı sayı gelebilir. \n",
        "*   Birler basamağı için geriye kalan 4 sayıdan birisi gelebilir; 4 farklı sayı gelebilir.\n",
        "\n",
        "\n",
        "3*5*4=60 farklı sayı elde edilebilir.\n",
        "\n"
      ]
    },
    {
      "metadata": {
        "id": "B0M3o9GDRJ-F",
        "colab_type": "code",
        "colab": {
          "base_uri": "https://localhost:8080/",
          "height": 51
        },
        "outputId": "6c732aed-f2bb-4937-c518-6eb25b616be2"
      },
      "cell_type": "code",
      "source": [
        "A=[0,1,2,5,7,9] \n",
        "k=len(A)\n",
        "\n",
        "#faktöriyel hesaplama\n",
        "def faktoriyel(sayi):\n",
        "  if sayi<=1:\n",
        "    return 1\n",
        "  else:\n",
        "    return sayi*faktoriyel(sayi-1)\n",
        "\n",
        "\n",
        "#kombinasyon hesaplama\n",
        "def C(n,r):\n",
        "  sonuc=faktoriyel(n)/(faktoriyel(n-r)*faktoriyel(r))\n",
        "  return sonuc\n",
        "\n",
        "#yüzler basamağının bulunması\n",
        "\n",
        "count=0\n",
        "for i in A:\n",
        "  if i>=5:\n",
        "    count += 1  \n",
        "\n",
        "print(count)\n",
        "sonuc=C(count,1)*C(k-1,1)*C(k-2,1)\n",
        "\n",
        "print (sonuc)\n",
        " \n",
        "\n",
        "\n"
      ],
      "execution_count": 30,
      "outputs": [
        {
          "output_type": "stream",
          "text": [
            "3\n",
            "60.0\n"
          ],
          "name": "stdout"
        }
      ]
    }
  ]
}