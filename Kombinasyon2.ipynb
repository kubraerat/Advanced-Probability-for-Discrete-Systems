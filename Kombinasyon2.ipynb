{
  "nbformat": 4,
  "nbformat_minor": 0,
  "metadata": {
    "colab": {
      "name": "Untitled2.ipynb",
      "version": "0.3.2",
      "provenance": [],
      "include_colab_link": true
    },
    "kernelspec": {
      "name": "python3",
      "display_name": "Python 3"
    }
  },
  "cells": [
    {
      "cell_type": "markdown",
      "metadata": {
        "id": "view-in-github",
        "colab_type": "text"
      },
      "source": [
        "<a href=\"https://colab.research.google.com/github/kubraerat/Advanced-Probability-for-Discrete-Systems/blob/master/Kombinasyon2.ipynb\" target=\"_parent\"><img src=\"https://colab.research.google.com/assets/colab-badge.svg\" alt=\"Open In Colab\"/></a>"
      ]
    },
    {
      "metadata": {
        "id": "bb-HDykZ0N3R",
        "colab_type": "text"
      },
      "cell_type": "markdown",
      "source": [
        "**Soru**:* A={0,1,2,5,7,9} kümesinin elemanlarını kullanarak rakamları farklı üç basamaklı, 500 den büyük kaç sayı yazılır ?*\n",
        "\n",
        "**Çözüm**: \n",
        "\n",
        "\n",
        "*   500 den büyük olması için yüzler basamağına 5 , 7 veya 9 gelebilir. 3 durum burdan.\n",
        "\n",
        "*   Onlar basamağı için 0,1,2,5,7,9 den biri gelebilir. Bir rakam yüzlerde kullanıldığı için, 5 farklı sayı gelebilir.\n",
        "*   Birler basamağı için geriye kalan 4 sayıdan birisi gelebilir; 4 farklı sayı gelebilir. \n",
        "\n",
        "\n",
        "C(3,1)xC(5,1)xC(4,1)= 3x5x4=60 farklı sayı elde edilebilir.\n",
        "\n"
      ]
    },
    {
      "metadata": {
        "id": "B0M3o9GDRJ-F",
        "colab_type": "code",
        "outputId": "4ad284bd-3b0a-4b8a-86be-174db63ea2fb",
        "colab": {
          "base_uri": "https://localhost:8080/",
          "height": 34
        }
      },
      "cell_type": "code",
      "source": [
        "A=[0,1,2,5,7,9] \n",
        "k=len(A)\n",
        "\n",
        "#faktöriyel hesaplama\n",
        "def faktoriyel(sayi):\n",
        "  if sayi<=1:\n",
        "    return 1\n",
        "  else:\n",
        "    return sayi*faktoriyel(sayi-1)\n",
        "\n",
        "\n",
        "#kombinasyon hesaplama\n",
        "def C(n,r):\n",
        "  sonuc=faktoriyel(n)/(faktoriyel(n-r)*faktoriyel(r))\n",
        "  return sonuc\n",
        "\n",
        "#yüzler basamağına kaç elemanın gelebileceğinin bulunması\n",
        "count=0\n",
        "for i in A:\n",
        "  if i>=5:\n",
        "    count += 1  \n",
        "\n",
        "#çözüm\n",
        "sonuc=C(count,1)*C(k-1,1)*C(k-2,1)\n",
        "\n",
        "print (\"A kümesinin elemanlarını kullanılarak\", int(sonuc), \"tane 3 basamaklı 500'den büyük rakamları farklı sayı yazılabilir.\")\n",
        " \n",
        "\n",
        "\n"
      ],
      "execution_count": 7,
      "outputs": [
        {
          "output_type": "stream",
          "text": [
            "A kümesinin elemanlarını kullanılarak 60 tane 3 basamaklı 500'den büyük rakamları farklı sayı yazılabilir.\n"
          ],
          "name": "stdout"
        }
      ]
    }
  ]
}