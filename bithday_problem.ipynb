{
  "nbformat": 4,
  "nbformat_minor": 0,
  "metadata": {
    "colab": {
      "name": "bithday_problem.ipynb",
      "version": "0.3.2",
      "provenance": [],
      "include_colab_link": true
    },
    "kernelspec": {
      "name": "python3",
      "display_name": "Python 3"
    }
  },
  "cells": [
    {
      "cell_type": "markdown",
      "metadata": {
        "id": "view-in-github",
        "colab_type": "text"
      },
      "source": [
        "<a href=\"https://colab.research.google.com/github/kubraerat/Advanced-Probability-for-Discrete-Systems/blob/master/bithday_problem.ipynb\" target=\"_parent\"><img src=\"https://colab.research.google.com/assets/colab-badge.svg\" alt=\"Open In Colab\"/></a>"
      ]
    },
    {
      "metadata": {
        "id": "ajY0z-zq6P1_",
        "colab_type": "code",
        "colab": {}
      },
      "cell_type": "code",
      "source": [
        ""
      ],
      "execution_count": 0,
      "outputs": []
    },
    {
      "metadata": {
        "id": "Ti_UXtuF6dHX",
        "colab_type": "text"
      },
      "cell_type": "markdown",
      "source": [
        "Pigeonhole Principles Example\n",
        "\n",
        "Q:Pigeonhole Elementary School has 500 students. Show that at least two of them were born on the same day of the year.\n",
        "\n",
        "S: There are 500 students, and only 366 days they could have been born on, so by the PHP some two students were born on the same day.\n",
        "\n",
        "*The code implemented for the n: number of students. *n should be more than 366 to make sure pigeonhole principles are running correctly on this example."
      ]
    },
    {
      "metadata": {
        "id": "LxOhdmJP6mAz",
        "colab_type": "code",
        "colab": {}
      },
      "cell_type": "code",
      "source": [
        "import math\n",
        "\n",
        "s=input(\"Number of students: \") #number of students\n",
        "std=int(s)\n",
        "if(std>366):\n",
        "    result=math.ceil(std/366)   #ceiling the number of students with pigeonhole principles\n",
        "    print(\"At least\", result, \"students were born on the same day of the year.\")\n",
        "else:\n",
        "    print(\"Number of students should be more than number of days in a year.\") #number of pigeons should be more than pigeonholes\n"
      ],
      "execution_count": 0,
      "outputs": []
    },
    {
      "metadata": {
        "id": "w9NLRaB66YO1",
        "colab_type": "text"
      },
      "cell_type": "markdown",
      "source": [
        ""
      ]
    }
  ]
}