{
  "nbformat": 4,
  "nbformat_minor": 0,
  "metadata": {
    "colab": {
      "name": "Untitled9.ipynb",
      "version": "0.3.2",
      "provenance": [],
      "include_colab_link": true
    },
    "kernelspec": {
      "name": "python3",
      "display_name": "Python 3"
    }
  },
  "cells": [
    {
      "cell_type": "markdown",
      "metadata": {
        "id": "view-in-github",
        "colab_type": "text"
      },
      "source": [
        "<a href=\"https://colab.research.google.com/github/kubraerat/Advanced-Probability-for-Discrete-Systems/blob/master/e(x).ipynb\" target=\"_parent\"><img src=\"https://colab.research.google.com/assets/colab-badge.svg\" alt=\"Open In Colab\"/></a>"
      ]
    },
    {
      "cell_type": "markdown",
      "metadata": {
        "id": "mjLWklxs0VcL",
        "colab_type": "text"
      },
      "source": [
        " X rasgele değişkenin olasılık yoğunluk fonksiyonu,\n",
        " \n",
        "\n",
        "\n",
        "\\begin{align}\n",
        "f(x) = \\left\\{ \\begin{array}{cc} \n",
        "                3*x^{-4}& \\hspace{5mm} x>1 \\\\\n",
        "                0 & \\hspace{5mm} diğer durumlarda \\\\\n",
        "                \\end{array} \\right.\n",
        "\\end{align}\n",
        "\n",
        "\n",
        "\n",
        "$E(X)=\\int_{1}^{\\infty} x* 3*x^{-4} dx$=3$\\dfrac{x^{-2} }{-2}$"
      ]
    }
  ]
}