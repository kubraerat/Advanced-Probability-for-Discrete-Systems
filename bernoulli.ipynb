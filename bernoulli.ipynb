{
  "nbformat": 4,
  "nbformat_minor": 0,
  "metadata": {
    "colab": {
      "name": "Untitled10.ipynb",
      "version": "0.3.2",
      "provenance": [],
      "collapsed_sections": [],
      "include_colab_link": true
    },
    "kernelspec": {
      "name": "python3",
      "display_name": "Python 3"
    }
  },
  "cells": [
    {
      "cell_type": "markdown",
      "metadata": {
        "id": "view-in-github",
        "colab_type": "text"
      },
      "source": [
        "<a href=\"https://colab.research.google.com/github/kubraerat/Advanced-Probability-for-Discrete-Systems/blob/master/bernoulli.ipynb\" target=\"_parent\"><img src=\"https://colab.research.google.com/assets/colab-badge.svg\" alt=\"Open In Colab\"/></a>"
      ]
    },
    {
      "cell_type": "markdown",
      "metadata": {
        "id": "iWOIZVfY4ZMN",
        "colab_type": "text"
      },
      "source": [
        "**Soru:** \n",
        "Hileli bir para atıldığında yazı gelme olasılığı %40, tura gelme olasılığı %60, zarın tura gelmesinin bernoulli prensibine göre beklenen değerini ve varyansını hesaplayınız.\n",
        "\n",
        "\n",
        "**Çözüm:**\n",
        "\n",
        "*Bernoulli Prensibi*\n",
        "\n",
        "$P(X=x)=p^x(1-p)^{1-x}, x=0,1$\n",
        "\n",
        "\n",
        "Paranın yazı gelme durumu: $ x=0$\n",
        "\n",
        "Paranın tura gelme durumu: $x=1$\n",
        "\n",
        "\n",
        "\n",
        "$ E[X]=$$\\sum{xP(X=x)}=0(1-p)+1p=p$\n",
        "\n",
        "$ E[X]=0*(1-\\frac{6}{10})+1*\\frac{6}{10}=\\frac{6}{10}$\n",
        "\n",
        "\n",
        "$ E[X^2]=$$\\sum{x^2P(X=x^2)}=0^2(1-p)+1^2p=p$\n",
        "\n",
        "$ E[X^2]=0^2*(1-\\frac{6}{10})+1^2*\\frac{6}{10}=\\frac{6}{10}$\n",
        "\n",
        "\n",
        "$ Var(X)=E[X^2]- E[X]=p-p^2=p(1-p)$\n",
        "\n",
        "$ Var(X)=\\frac{6}{10}-(\\frac{6}{10})^2=\\frac{24}{100}$\n",
        "\n"
      ]
    }
  ]
}