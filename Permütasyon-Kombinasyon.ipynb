{
  "nbformat": 4,
  "nbformat_minor": 0,
  "metadata": {
    "colab": {
      "name": "Untitled2.ipynb",
      "version": "0.3.2",
      "provenance": [],
      "include_colab_link": true
    },
    "kernelspec": {
      "name": "python3",
      "display_name": "Python 3"
    }
  },
  "cells": [
    {
      "cell_type": "markdown",
      "metadata": {
        "id": "view-in-github",
        "colab_type": "text"
      },
      "source": [
        "<a href=\"https://colab.research.google.com/github/kubraerat/Advanced-Probability-for-Discrete-Systems/blob/master/Perm%C3%BCtasyon-Kombinasyon.ipynb\" target=\"_parent\"><img src=\"https://colab.research.google.com/assets/colab-badge.svg\" alt=\"Open In Colab\"/></a>"
      ]
    },
    {
      "metadata": {
        "id": "bb-HDykZ0N3R",
        "colab_type": "text"
      },
      "cell_type": "markdown",
      "source": [
        "**Soru**:* A={0,1,2,5,7} kümesinin elemanlarını kullanarak rakamları farklı üç basamaklı, 500 den büyük kaç sayı yazılır ?*\n",
        "\n",
        "**Çözüm**: \n",
        "\n",
        "\n",
        "*   500 den büyük olması için yüzler basamağına 5 veya 7 gelebilir. 2 durum burdan.\n",
        "\n",
        "*   Onlar basamağı için 0,1,2,5,7 den biri gelebilir.\n",
        "\n",
        "\n",
        "*   4 farklı sayı gelebilir. bir rakam yüzlerde kullanıldığı için.\n",
        "*   Birler basamağı için geriye kalan 3 sayıdan birisi gelebilir; 3 farklı sayı gelebilir.\n",
        "\n",
        "\n",
        "2.4.3=24 farklı sayı elde edilebilir.\n",
        "\n"
      ]
    },
    {
      "metadata": {
        "id": "B0M3o9GDRJ-F",
        "colab_type": "code",
        "colab": {}
      },
      "cell_type": "code",
      "source": [
        "A=[0,1,2,5,7] \n",
        "\n",
        "#faktöriyel hesaplama\n",
        "def faktoriyel(sayi):\n",
        "  if sayi<=1:\n",
        "    return 1\n",
        "  else:\n",
        "    return sayi*faktoriyel(sayi-1)\n",
        "\n",
        "  \n",
        "#permütasyon hesaplama\n",
        "def P(n,r):\n",
        "  sonuc=faktoriyel(n)/faktoriyel(n-r)\n",
        "  return sonuc \n",
        "\n",
        "#kombinasyon hesaplama\n",
        "def C(n,r):\n",
        "  sonuc=faktoriyel(n)/(faktoriyel(n-r)*faktoriyel(r))\n",
        "  return sonuc\n",
        "\n",
        "#yüzler basamağının bulunması\n",
        "\n",
        "count=0:\n",
        "for i in A:\n",
        "  if A[i]>=5\n",
        "    count=count+1\n",
        "  \n",
        "  \n",
        " \n",
        "\n",
        "\n"
      ],
      "execution_count": 0,
      "outputs": []
    }
  ]
}