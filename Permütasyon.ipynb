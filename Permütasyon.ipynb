{
  "nbformat": 4,
  "nbformat_minor": 0,
  "metadata": {
    "colab": {
      "name": "Untitled3.ipynb",
      "version": "0.3.2",
      "provenance": [],
      "include_colab_link": true
    },
    "kernelspec": {
      "name": "python3",
      "display_name": "Python 3"
    }
  },
  "cells": [
    {
      "cell_type": "markdown",
      "metadata": {
        "id": "view-in-github",
        "colab_type": "text"
      },
      "source": [
        "<a href=\"https://colab.research.google.com/github/kubraerat/Advanced-Probability-for-Discrete-Systems/blob/master/Perm%C3%BCtasyon.ipynb\" target=\"_parent\"><img src=\"https://colab.research.google.com/assets/colab-badge.svg\" alt=\"Open In Colab\"/></a>"
      ]
    },
    {
      "metadata": {
        "id": "xnQUDcUs1_gV",
        "colab_type": "text"
      },
      "cell_type": "markdown",
      "source": [
        ""
      ]
    },
    {
      "metadata": {
        "id": "EPhTF85R2VcM",
        "colab_type": "text"
      },
      "cell_type": "markdown",
      "source": [
        "**Soru:** A={a,b,c,d,e}\n",
        "\n",
        "kümesinin üçlü permütasyonlarının kaçında a veya b bulunur?\n",
        "\n",
        "**Çözüm:** A kümesinin elemanları arasından a ve b yi ayırırsak kalan elemanlardan oluşturacağımız 3'lü permütasyonlar P(3,3)=6 olur.\n",
        "\n",
        "Buna göre 5 elemanlı A kümesinin 3 elemanlı alt kümelerinin tamamından a ve b nin bulunmadığı durumu çıkartırsak soruda istenen şartı sağlarız.\n",
        "\n",
        "P(5,3)-P(3,3)=60-6=54 olur."
      ]
    },
    {
      "metadata": {
        "id": "fl9yLfI62nbo",
        "colab_type": "code",
        "colab": {
          "base_uri": "https://localhost:8080/",
          "height": 34
        },
        "outputId": "68338b02-0926-47e2-8fdc-dcec9f557186"
      },
      "cell_type": "code",
      "source": [
        "liste = ['a','b','c','d','e']\n",
        "k=len(liste)\n",
        "\n",
        "#faktöriyel hesaplama\n",
        "def faktoriyel(sayi):\n",
        "  if sayi<=1:\n",
        "    return 1\n",
        "  else:\n",
        "    return sayi*faktoriyel(sayi-1)\n",
        "  \n",
        "#permütasyon hesaplama\n",
        "def P(n,r):\n",
        "  sonuc=faktoriyel(n)/faktoriyel(n-r)\n",
        "  return sonuc\n",
        "  \n",
        "\n",
        "#çözüm1\n",
        "sonuc=P(k,3)-P(k-2,3)\n",
        "print (sonuc)\n"
      ],
      "execution_count": 7,
      "outputs": [
        {
          "output_type": "stream",
          "text": [
            "54.0\n"
          ],
          "name": "stdout"
        }
      ]
    }
  ]
}